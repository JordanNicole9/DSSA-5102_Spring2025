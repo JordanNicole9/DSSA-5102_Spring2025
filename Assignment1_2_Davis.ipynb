{
 "cells": [
  {
   "cell_type": "markdown",
   "id": "c825ca7c",
   "metadata": {},
   "source": [
    "# Assignment #1 - Data Gathering and Warehousing - DSSA-5102"
   ]
  },
  {
   "cell_type": "markdown",
   "id": "3e792669",
   "metadata": {},
   "source": [
    "Instructor: Melissa Laurino<br>\n",
    "Spring 2025"
   ]
  },
  {
   "cell_type": "markdown",
   "id": "db9fe204",
   "metadata": {},
   "source": [
    "Name: Jordan Davis\n",
    "<br>\n",
    "Date: 2/13/25"
   ]
  },
  {
   "cell_type": "markdown",
   "id": "292e9143",
   "metadata": {},
   "source": [
    "<b>Data. Is. Everywhere.</b> <br>\n",
    "Our first objective is to locate and explore <b>TWO</b> datasets about something you are passionate about, or related to a field you would like to work in. Our semester plan is <i>try</i> to work with the same dataset through out the semester. You can find and explore as many datasets as you wish, but Assignment #2 will focus on the one you like the best.\n",
    "There are many great websites that offer public datasets avaialable to download. Examples include but are not limited to:\n",
    "<br>\n",
    "Data.gov - https://data.gov/ - has many government owened public datasets.<br>\n",
    "World Bank Data - https://data.worldbank.org/ - has world economic, social, and environmental data.<br>\n",
    "Google Dataset Search - https://datasetsearch.research.google.com/ - many of these available datasets link to published studies available on Google Scholar in many fields.<br>\n",
    "Kaggle Datasets - https://www.kaggle.com/datasets - a platform for sharing datasets. Anyone can upload to this website.<br>\n",
    "U.S. Census Bureau - https://www.census.gov/ - data on people, places and econoy for the United States.\n",
    "GitHub - https://github.com/ - hosts datasets and completed projects.<br>\n",
    "Federal Reserve Economic Data (FRED) - https://fred.stlouisfed.org/ - Financial and economic data.<br>\n",
    "CDC - https://data.cdc.gov/ - Explore the various data collected by the CDC.<br>\n",
    "NOAA - https://www.ncei.noaa.gov/cdo-web/ - NOAA climate and ocean data. <br>\n",
    "<br>\n",
    "In addition to these resources, occasionally local organizations may be able to provide you with data, or maybe even your own company! Your data source can come from a personal connection, but please be mindful of any data agreements or approvals you may need. If you need approval to use data from your place of employment, please specify that with the instructor so we can ensure no violations to your data agreement will be made this semester.\n",
    "<br>\n",
    "<br>\n",
    "Resources for learning Python:\n",
    "- Data camp - https://www.datacamp.com/category/python - Contact Professor Baldwin for access.<br>\n",
    "- Data Science from Scratch: First Principles with Python - Check Blackboard <br>\n",
    "- Python for Data Analysis Data Wrangling with pandas, NumPy & Jupyter - Check Blackboard"
   ]
  },
  {
   "cell_type": "markdown",
   "id": "712dad64-6ed8-4680-90b7-4e47833e6887",
   "metadata": {},
   "source": [
    "For Assignment #1, our objective is to locate and explore two different datasets using Python. We will choose one of these datasets to clean to prepare for our future database. For each dataset include: <br>\n",
    "- The dataset name, company/organization resonsible for data collection, the download link, and date of access. <br>\n",
    "- Load neccessary packages <br>\n",
    "- Obtain the general info for your data such as size, number of rows/columns, column names, describing the data etc. <br>\n",
    "- What are the unique columns or variables present in your dataset? <br>\n",
    "- Create one quick plot to visualize your data. It is okay if it is messy since your data has not been cleaned yet, but still make sure you are practicing good graphins with a title, axis labels, and anything else needed for your graph.  <br>\n",
    "\n",
    "Comment ALL code to recieve full credit. The above bullet points are to help guide you in your process, but extensive exploration is expected for each data set. <br>\n",
    "<br>\n",
    "Explore various markdown font settings: https://ingeh.medium.com/markdown-for-jupyter-notebooks-cheatsheet-386c05aeebed"
   ]
  },
  {
   "cell_type": "markdown",
   "id": "6c5eadb4",
   "metadata": {},
   "source": [
    "## Dataset #1"
   ]
  },
  {
   "cell_type": "markdown",
   "id": "0bf03c2c",
   "metadata": {},
   "source": [
    "<b>Dataset name: Global Surface Temperature </b><br>\n",
    "<b>Company/Government Organization: World Bank Group </b><br>\n",
    "Download link: https://datatopics.worldbank.org/sdgatlas/goal-13-climate-action?lang=en  <br>\n",
    "Date of Access: 2/8/25"
   ]
  },
  {
   "cell_type": "markdown",
   "id": "55a352bf",
   "metadata": {},
   "source": [
    "Popular packages to load in working with Python: <br>\n",
    "pandas: https://pandas.pydata.org/about/index.html <br>\n",
    "numpy: https://numpy.org/learn/ <br>\n",
    "matplotlib: https://matplotlib.org/stable/api/pyplot_summary.html"
   ]
  },
  {
   "cell_type": "code",
   "execution_count": 7,
   "id": "f274f2ae",
   "metadata": {
    "scrolled": true
   },
   "outputs": [],
   "source": [
    "# My examples are below, but edit as needed to fit your dataset:\n",
    "import pandas as pd # Reads, writes, shapes, manipulates data\n",
    "import numpy as np # Basic stats and numerical operations\n",
    "import matplotlib.pyplot as plt # Creating basic graphs"
   ]
  },
  {
   "cell_type": "markdown",
   "id": "79c86913",
   "metadata": {},
   "source": [
    "Importing a library as an abbreviation is beneficial to shorten your code and make it more concise. <br>\n",
    "For example, when referencing your data frame without the abbreviation you would write: pandas.DataFrame <br>\n",
    "With an abbreviation, you can just write: pd.DataFrame"
   ]
  },
  {
   "cell_type": "markdown",
   "id": "de7e9968-efb1-482d-b7f7-c309228fbbde",
   "metadata": {},
   "source": [
    "Load your chosen dataset into the notebook below:"
   ]
  },
  {
   "cell_type": "code",
   "execution_count": 45,
   "id": "8dbcdffd",
   "metadata": {},
   "outputs": [],
   "source": [
    "# Be sure to document each line of code like the above example.\n",
    "# Documenting each line of code is helpful when revisiting assignments later in the semester."
   ]
  },
  {
   "cell_type": "code",
   "execution_count": 11,
   "id": "2fc0d288",
   "metadata": {},
   "outputs": [
    {
     "data": {
      "text/html": [
       "<div>\n",
       "<style scoped>\n",
       "    .dataframe tbody tr th:only-of-type {\n",
       "        vertical-align: middle;\n",
       "    }\n",
       "\n",
       "    .dataframe tbody tr th {\n",
       "        vertical-align: top;\n",
       "    }\n",
       "\n",
       "    .dataframe thead th {\n",
       "        text-align: right;\n",
       "    }\n",
       "</style>\n",
       "<table border=\"1\" class=\"dataframe\">\n",
       "  <thead>\n",
       "    <tr style=\"text-align: right;\">\n",
       "      <th></th>\n",
       "      <th>year</th>\n",
       "      <th>temp</th>\n",
       "      <th>x5</th>\n",
       "      <th>x95</th>\n",
       "      <th>series</th>\n",
       "    </tr>\n",
       "  </thead>\n",
       "  <tbody>\n",
       "    <tr>\n",
       "      <th>0</th>\n",
       "      <td>1995</td>\n",
       "      <td>0.65</td>\n",
       "      <td>0.46</td>\n",
       "      <td>0.79</td>\n",
       "      <td>reconstructed</td>\n",
       "    </tr>\n",
       "    <tr>\n",
       "      <th>1</th>\n",
       "      <td>1994</td>\n",
       "      <td>0.64</td>\n",
       "      <td>0.46</td>\n",
       "      <td>0.77</td>\n",
       "      <td>reconstructed</td>\n",
       "    </tr>\n",
       "    <tr>\n",
       "      <th>2</th>\n",
       "      <td>1993</td>\n",
       "      <td>0.62</td>\n",
       "      <td>0.45</td>\n",
       "      <td>0.76</td>\n",
       "      <td>reconstructed</td>\n",
       "    </tr>\n",
       "    <tr>\n",
       "      <th>3</th>\n",
       "      <td>1992</td>\n",
       "      <td>0.61</td>\n",
       "      <td>0.45</td>\n",
       "      <td>0.74</td>\n",
       "      <td>reconstructed</td>\n",
       "    </tr>\n",
       "    <tr>\n",
       "      <th>4</th>\n",
       "      <td>1991</td>\n",
       "      <td>0.59</td>\n",
       "      <td>0.44</td>\n",
       "      <td>0.71</td>\n",
       "      <td>reconstructed</td>\n",
       "    </tr>\n",
       "  </tbody>\n",
       "</table>\n",
       "</div>"
      ],
      "text/plain": [
       "   year  temp    x5   x95         series\n",
       "0  1995  0.65  0.46  0.79  reconstructed\n",
       "1  1994  0.64  0.46  0.77  reconstructed\n",
       "2  1993  0.62  0.45  0.76  reconstructed\n",
       "3  1992  0.61  0.45  0.74  reconstructed\n",
       "4  1991  0.59  0.44  0.71  reconstructed"
      ]
     },
     "execution_count": 11,
     "metadata": {},
     "output_type": "execute_result"
    }
   ],
   "source": [
    "# Defining the path\n",
    "path = r\"C:\\Users\\jorda\\Documents\\Data_Gathering\\Assignment1\\goal13.temperature.csv\"\n",
    "\n",
    "# Loading the CSV file as a data frame\n",
    "df = pd.read_csv(path)\n",
    "\n",
    "# Checking to see if it loaded in correctly\n",
    "# Displaying the first few rows of the dataset\n",
    "df.head()\n"
   ]
  },
  {
   "cell_type": "markdown",
   "id": "2d345116-947c-4fa3-ac6f-435a8ea06fcb",
   "metadata": {},
   "source": [
    "We can run df.info() to see how large the dataframe is:"
   ]
  },
  {
   "cell_type": "code",
   "execution_count": 13,
   "id": "bfe1d023-2f96-48af-945a-95ce54d937e5",
   "metadata": {},
   "outputs": [
    {
     "name": "stdout",
     "output_type": "stream",
     "text": [
      "<class 'pandas.core.frame.DataFrame'>\n",
      "RangeIndex: 2153 entries, 0 to 2152\n",
      "Data columns (total 5 columns):\n",
      " #   Column  Non-Null Count  Dtype  \n",
      "---  ------  --------------  -----  \n",
      " 0   year    2153 non-null   int64  \n",
      " 1   temp    2153 non-null   float64\n",
      " 2   x5      2153 non-null   float64\n",
      " 3   x95     2153 non-null   float64\n",
      " 4   series  2153 non-null   object \n",
      "dtypes: float64(3), int64(1), object(1)\n",
      "memory usage: 84.2+ KB\n"
     ]
    }
   ],
   "source": [
    "# Using info df.info() to see how large the dataframe is\n",
    "df.info()"
   ]
  },
  {
   "cell_type": "markdown",
   "id": "7959c595-f3be-4277-8b84-e0aaa92bfd53",
   "metadata": {},
   "source": [
    "I have X columns in my dataset. \n",
    "I have X rows in my dataset."
   ]
  },
  {
   "cell_type": "code",
   "execution_count": null,
   "id": "1ed08a0e",
   "metadata": {},
   "outputs": [],
   "source": [
    "# I have five columns in my dataset: Year, temperature, x5, x95, and series"
   ]
  },
  {
   "cell_type": "code",
   "execution_count": null,
   "id": "f944fe78-56d8-43af-9677-819b6ead3c10",
   "metadata": {},
   "outputs": [],
   "source": [
    "# I have 2,153 rows in my dataset."
   ]
  },
  {
   "cell_type": "markdown",
   "id": "741d90c8",
   "metadata": {},
   "source": [
    "What are the unique columns or variables present in your dataset? How many rows are there?"
   ]
  },
  {
   "cell_type": "code",
   "execution_count": 15,
   "id": "4b0ba15e-1210-4114-992b-157d5ebfa9f5",
   "metadata": {},
   "outputs": [
    {
     "name": "stdout",
     "output_type": "stream",
     "text": [
      "\n",
      "Unique column names:\n",
      "\n",
      "Index(['year', 'temp', 'x5', 'x95', 'series'], dtype='object')\n",
      "\n",
      "Total number of columns:\n",
      "\n",
      "5\n",
      "\n",
      "Total number of rows:\n",
      "\n",
      "2153\n"
     ]
    }
   ],
   "source": [
    "# What are the unique column names?\n",
    "# Using the \\n in the print statement to skip a line for better visibility\n",
    "print(\"\\nUnique column names:\\n\")\n",
    "# Using the df.colummns function to view the columns in the dataset\n",
    "print(df.columns)\n",
    "\n",
    "# Finding and printing the total number of columns\n",
    "# Using the \\n in the print statement to skip a line for better visibility\n",
    "print(\"\\nTotal number of columns:\\n\")\n",
    "# Using the df.shape function to view the dimensions of the dataset, like amount of columns\n",
    "print(df.shape[1])\n",
    "\n",
    "# Finding and printing the total number of rows\n",
    "# Using the \\n in the print statement to skip a line for better visibility\n",
    "print(\"\\nTotal number of rows:\\n\")\n",
    "# Using the df.shape function to view the dimensions of the dataset, like amount of rows\n",
    "print(df.shape[0])\n"
   ]
  },
  {
   "cell_type": "markdown",
   "id": "e24b6448-b634-4b7a-9c69-f9a9353cb354",
   "metadata": {},
   "source": [
    "Use print(\" \") statements in python to print text or variables in the output. <br>\n",
    "Use \\n in the print statement to skip a line. Without skipping a line, everything prints close together."
   ]
  },
  {
   "cell_type": "code",
   "execution_count": 17,
   "id": "26525152-01c2-43ce-8b4d-1720a337892f",
   "metadata": {},
   "outputs": [
    {
     "name": "stdout",
     "output_type": "stream",
     "text": [
      "\n",
      "Summary Statistics for Numerical Columns:\n",
      "\n",
      "              year         temp           x5          x95\n",
      "count  2153.000000  2153.000000  2153.000000  2153.000000\n",
      "mean   1070.390618     0.111890    -0.089731     0.304278\n",
      "std     605.569493     0.143263     0.182128     0.155286\n",
      "min       5.000000    -0.170000    -0.480000    -0.150000\n",
      "25%     543.000000     0.020000    -0.180000     0.190000\n",
      "50%    1081.000000     0.120000    -0.080000     0.340000\n",
      "75%    1619.000000     0.180000    -0.030000     0.410000\n",
      "max    2016.000000     1.090000     1.090000     1.090000\n"
     ]
    }
   ],
   "source": [
    "# Describe the numerical columns\n",
    "# Using the \\n in the print statement to skip a line for better visibility\n",
    "print(\"\\nSummary Statistics for Numerical Columns:\\n\")\n",
    "# Using the df.describe function to get summary statistics for the numerical columns\n",
    "print(df.describe())"
   ]
  },
  {
   "cell_type": "code",
   "execution_count": null,
   "id": "cfb36a77-e37e-4b7c-9ddd-8598bed82243",
   "metadata": {},
   "outputs": [],
   "source": [
    "# The temp column ranges from -0.17 to 1.09, with an average of 0.11 and a standard deviation of 0.143 which shows some variation. \n",
    "# The x5 and x95 columns show values mostly between -0.48 and 1.09, with means of -0.089 and 0.304, showing slight\n",
    "# variation around their averages."
   ]
  },
  {
   "cell_type": "code",
   "execution_count": 19,
   "id": "65652edf",
   "metadata": {},
   "outputs": [
    {
     "name": "stdout",
     "output_type": "stream",
     "text": [
      "\n",
      "Data Types of Each Column:\n",
      "\n",
      "year        int64\n",
      "temp      float64\n",
      "x5        float64\n",
      "x95       float64\n",
      "series     object\n",
      "dtype: object\n"
     ]
    }
   ],
   "source": [
    "# Look more closely at the data types\n",
    "# Check data types of each column\n",
    "# Using the \\n in the print statement to skip a line for better visibility\n",
    "print(\"\\nData Types of Each Column:\\n\")\n",
    "# Using the df.dtypes to look at the data types for each column \n",
    "print(df.dtypes)"
   ]
  },
  {
   "cell_type": "code",
   "execution_count": null,
   "id": "db9541c9-7388-4fe7-a6ef-1c1e012b791a",
   "metadata": {},
   "outputs": [],
   "source": [
    "# year (int64)- whole numbers because they are years\n",
    "# temp (float64)- numerical column, temperature data with decimals\n",
    "# x5 (float64)- numerical column with decimal values, most likely representing the 5th percentile\n",
    "# x95 (float64)- numerical column with decimal values, most likely representing the 95th percentile \n",
    "# series (object)- text-based column, categorical values or labels."
   ]
  },
  {
   "cell_type": "code",
   "execution_count": 21,
   "id": "e554c1a0-9002-4b0a-98fd-02e52156ca38",
   "metadata": {},
   "outputs": [
    {
     "name": "stdout",
     "output_type": "stream",
     "text": [
      "\n",
      "Unique Values in 'series' Column:\n",
      "\n",
      "['reconstructed' 'observed']\n",
      "\n",
      "Value Counts for 'series' Column:\n",
      "\n",
      "series\n",
      "reconstructed    1991\n",
      "observed          162\n",
      "Name: count, dtype: int64\n",
      "\n",
      "Missing Values in 'series' Column:\n",
      "\n",
      "0\n",
      "\n",
      "First Few Entries in 'series' Column:\n",
      "\n",
      "0    reconstructed\n",
      "1    reconstructed\n",
      "2    reconstructed\n",
      "3    reconstructed\n",
      "4    reconstructed\n",
      "Name: series, dtype: object\n"
     ]
    }
   ],
   "source": [
    "# Explore the values of a category column:\n",
    "# Checking the unique values in the series column (1)\n",
    "# Using the \\n in the print statement to skip a line for better visibility\n",
    "print(\"\\nUnique Values in 'series' Column:\\n\")\n",
    "# Displays all unique categories in the column\n",
    "print(df['series'].unique())  \n",
    "\n",
    "# Counting the amount of each unique value (2)\n",
    "# Using the \\n in the print statement to skip a line for better visibility\n",
    "print(\"\\nValue Counts for 'series' Column:\\n\")\n",
    "# Shows how many times each category appears\n",
    "print(df['series'].value_counts())  \n",
    "\n",
    "# Checking for missing values in the series/category column (3)\n",
    "# Using the \\n in the print statement to skip a line for better visibility\n",
    "print(\"\\nMissing Values in 'series' Column:\\n\")\n",
    "# Counts the number of Nas\n",
    "print(df['series'].isnull().sum())  \n",
    "\n",
    "# Displaying the first few entries in the series column (4)\n",
    "# Using the \\n in the print statement to skip a line for better visibility\n",
    "print(\"\\nFirst Few Entries in 'series' Column:\\n\")\n",
    "# Prints the first few rows\n",
    "print(df['series'].head())  \n"
   ]
  },
  {
   "cell_type": "code",
   "execution_count": null,
   "id": "a82caeb3-6257-4e72-9162-a0be0583c857",
   "metadata": {},
   "outputs": [],
   "source": [
    "# (1) The series column contains two unique categories: \"reconstructed\" and \"observed\".\n",
    "# This might mean that there are two types of data records like years (reconstructed) and actual data observed.\n",
    "\n",
    "# (2) \"reconstructed\" appears 1,991 times\n",
    "# This would align with the idea that this is the year column\n",
    "# \"observed\" appears 162 times \n",
    "# This one is a little bit more ambiguous, but it could still align with the idea of actual observations. \n",
    "\n",
    "# (3) There are no missing values in the series column which is rare.\n",
    "\n",
    "# (4) It all shows reconstructed which is not that helpful. "
   ]
  },
  {
   "cell_type": "code",
   "execution_count": 67,
   "id": "fb7f5a63-9e53-4bae-91cf-2d9bfecdc5d6",
   "metadata": {},
   "outputs": [
    {
     "data": {
      "image/png": "[encoded data removed]",
      "text/plain": [
       "<Figure size 800x500 with 1 Axes>"
      ]
     },
     "metadata": {},
     "output_type": "display_data"
    }
   ],
   "source": [
    "# The data goes back far but stops around 1995\n",
    "# Filter the dataset for years from 1900 to 1995\n",
    "df_filtered = df[(df.iloc[:, 0] >= 1900) & (df.iloc[:, 0] <= 1995)]\n",
    "\n",
    "# Line graph showing temperature changes from 1900 to 1995 \n",
    "# Setting the figure size for the plot\n",
    "plt.figure(figsize=(8, 5))\n",
    "# Plot the temperature over the years:\n",
    "# X-axis: The first column (year)\n",
    "# Y-axis: The temp column \n",
    "# 'o': Making small circular markers for data points\n",
    "# '-': Connecting the points with a solid line\n",
    "# 'b': Setting blue color for the line\n",
    "# markersize: changes the size\n",
    "plt.plot(df_filtered.iloc[:, 0], df_filtered['temp'], marker='o', linestyle='-', color='b', markersize=3)\n",
    "\n",
    "# Adding labels \n",
    "plt.xlabel(\"Year\") # Labeling\n",
    "plt.ylabel(\"Temperature (°C)\") # Labeling\n",
    "plt.title(\"Temperature Trends (1900 - 1995)\") # Labeling\n",
    "plt.grid(True)  # Adding a grid \n",
    "\n",
    "# Displaying the plot\n",
    "plt.show()"
   ]
  },
  {
   "cell_type": "markdown",
   "id": "b913643b",
   "metadata": {},
   "source": [
    "Create one graph to quickly visualize your data using matplotlib. <br>\n",
    "Matplotlib color guide: https://i.sstatic.net/lFZum.png <br><br>\n",
    "It's okay if it is not visualy appealing or contains outliers, because we have not cleaned our data yet! Did you get any errors? If so, what were they? Would the errors have been avoided if you had cleaned the data first?<br>\n",
    "Data cleaning and transforming is very important when storing your data in a warehouse...ready for Assignment #2?"
   ]
  },
  {
   "cell_type": "code",
   "execution_count": null,
   "id": "13889400-7cf3-4b9b-b5a6-ec4f071e56cf",
   "metadata": {},
   "outputs": [],
   "source": [
    "# This dataset was actualy very clean to begin with it really only had the data needed, there were no NAs which is rare, and\n",
    "# overall it was very easy to work with. The only issue was that it was a very large dataset and encompasses many years. "
   ]
  },
  {
   "cell_type": "markdown",
   "id": "251688bc-3597-4eec-b1e1-c1e24e090b93",
   "metadata": {},
   "source": [
    "## Dataset #2"
   ]
  },
  {
   "cell_type": "markdown",
   "id": "17ba6fbf-6c3e-469e-bf3a-49fb9d16fc84",
   "metadata": {},
   "source": [
    "<b>Dataset name: Income share held by highest 10% </b><br>\n",
    "<b>Company/Government Organization: World Bank Group </b><br>\n",
    "Download link: https://data.worldbank.org/indicator/SI.DST.10TH.10 <br>\n",
    "Date of Access: 2/8/25"
   ]
  },
  {
   "cell_type": "code",
   "execution_count": 33,
   "id": "b4f74168-7ca6-4c93-8f2b-2b6892c7a8cb",
   "metadata": {},
   "outputs": [],
   "source": [
    "# My examples are below, but edit as needed to fit your dataset:\n",
    "import pandas as pd # Reads, writes, shapes, manipulates data\n",
    "import numpy as np # Basic stats and numerical operations\n",
    "import matplotlib.pyplot as plt # Creating basic graphs"
   ]
  },
  {
   "cell_type": "code",
   "execution_count": 35,
   "id": "4efa3d9f-e6ae-4c62-8517-1ef603939315",
   "metadata": {},
   "outputs": [
    {
     "data": {
      "text/html": [
       "<div>\n",
       "<style scoped>\n",
       "    .dataframe tbody tr th:only-of-type {\n",
       "        vertical-align: middle;\n",
       "    }\n",
       "\n",
       "    .dataframe tbody tr th {\n",
       "        vertical-align: top;\n",
       "    }\n",
       "\n",
       "    .dataframe thead th {\n",
       "        text-align: right;\n",
       "    }\n",
       "</style>\n",
       "<table border=\"1\" class=\"dataframe\">\n",
       "  <thead>\n",
       "    <tr style=\"text-align: right;\">\n",
       "      <th></th>\n",
       "      <th>Data Source</th>\n",
       "      <th>World Development Indicators</th>\n",
       "      <th>Unnamed: 2</th>\n",
       "      <th>Unnamed: 3</th>\n",
       "      <th>Unnamed: 4</th>\n",
       "      <th>Unnamed: 5</th>\n",
       "      <th>Unnamed: 6</th>\n",
       "      <th>Unnamed: 7</th>\n",
       "      <th>Unnamed: 8</th>\n",
       "      <th>Unnamed: 9</th>\n",
       "      <th>...</th>\n",
       "      <th>Unnamed: 58</th>\n",
       "      <th>Unnamed: 59</th>\n",
       "      <th>Unnamed: 60</th>\n",
       "      <th>Unnamed: 61</th>\n",
       "      <th>Unnamed: 62</th>\n",
       "      <th>Unnamed: 63</th>\n",
       "      <th>Unnamed: 64</th>\n",
       "      <th>Unnamed: 65</th>\n",
       "      <th>Unnamed: 66</th>\n",
       "      <th>Unnamed: 67</th>\n",
       "    </tr>\n",
       "  </thead>\n",
       "  <tbody>\n",
       "    <tr>\n",
       "      <th>0</th>\n",
       "      <td>NaN</td>\n",
       "      <td>NaN</td>\n",
       "      <td>NaN</td>\n",
       "      <td>NaN</td>\n",
       "      <td>NaN</td>\n",
       "      <td>NaN</td>\n",
       "      <td>NaN</td>\n",
       "      <td>NaN</td>\n",
       "      <td>NaN</td>\n",
       "      <td>NaN</td>\n",
       "      <td>...</td>\n",
       "      <td>NaN</td>\n",
       "      <td>NaN</td>\n",
       "      <td>NaN</td>\n",
       "      <td>NaN</td>\n",
       "      <td>NaN</td>\n",
       "      <td>NaN</td>\n",
       "      <td>NaN</td>\n",
       "      <td>NaN</td>\n",
       "      <td>NaN</td>\n",
       "      <td>NaN</td>\n",
       "    </tr>\n",
       "    <tr>\n",
       "      <th>1</th>\n",
       "      <td>Last Updated Date</td>\n",
       "      <td>1/28/2025</td>\n",
       "      <td>NaN</td>\n",
       "      <td>NaN</td>\n",
       "      <td>NaN</td>\n",
       "      <td>NaN</td>\n",
       "      <td>NaN</td>\n",
       "      <td>NaN</td>\n",
       "      <td>NaN</td>\n",
       "      <td>NaN</td>\n",
       "      <td>...</td>\n",
       "      <td>NaN</td>\n",
       "      <td>NaN</td>\n",
       "      <td>NaN</td>\n",
       "      <td>NaN</td>\n",
       "      <td>NaN</td>\n",
       "      <td>NaN</td>\n",
       "      <td>NaN</td>\n",
       "      <td>NaN</td>\n",
       "      <td>NaN</td>\n",
       "      <td>NaN</td>\n",
       "    </tr>\n",
       "    <tr>\n",
       "      <th>2</th>\n",
       "      <td>NaN</td>\n",
       "      <td>NaN</td>\n",
       "      <td>NaN</td>\n",
       "      <td>NaN</td>\n",
       "      <td>NaN</td>\n",
       "      <td>NaN</td>\n",
       "      <td>NaN</td>\n",
       "      <td>NaN</td>\n",
       "      <td>NaN</td>\n",
       "      <td>NaN</td>\n",
       "      <td>...</td>\n",
       "      <td>NaN</td>\n",
       "      <td>NaN</td>\n",
       "      <td>NaN</td>\n",
       "      <td>NaN</td>\n",
       "      <td>NaN</td>\n",
       "      <td>NaN</td>\n",
       "      <td>NaN</td>\n",
       "      <td>NaN</td>\n",
       "      <td>NaN</td>\n",
       "      <td>NaN</td>\n",
       "    </tr>\n",
       "    <tr>\n",
       "      <th>3</th>\n",
       "      <td>Country Name</td>\n",
       "      <td>Country Code</td>\n",
       "      <td>Indicator Name</td>\n",
       "      <td>Indicator Code</td>\n",
       "      <td>1960.0</td>\n",
       "      <td>1961.0</td>\n",
       "      <td>1962.0</td>\n",
       "      <td>1963.0</td>\n",
       "      <td>1964.0</td>\n",
       "      <td>1965.0</td>\n",
       "      <td>...</td>\n",
       "      <td>2014.0</td>\n",
       "      <td>2015.0</td>\n",
       "      <td>2016.0</td>\n",
       "      <td>2017.0</td>\n",
       "      <td>2018.0</td>\n",
       "      <td>2019.0</td>\n",
       "      <td>2020.0</td>\n",
       "      <td>2021.0</td>\n",
       "      <td>2022.0</td>\n",
       "      <td>2023.0</td>\n",
       "    </tr>\n",
       "    <tr>\n",
       "      <th>4</th>\n",
       "      <td>Aruba</td>\n",
       "      <td>ABW</td>\n",
       "      <td>Income share held by highest 10%</td>\n",
       "      <td>SI.DST.10TH.10</td>\n",
       "      <td>NaN</td>\n",
       "      <td>NaN</td>\n",
       "      <td>NaN</td>\n",
       "      <td>NaN</td>\n",
       "      <td>NaN</td>\n",
       "      <td>NaN</td>\n",
       "      <td>...</td>\n",
       "      <td>NaN</td>\n",
       "      <td>NaN</td>\n",
       "      <td>NaN</td>\n",
       "      <td>NaN</td>\n",
       "      <td>NaN</td>\n",
       "      <td>NaN</td>\n",
       "      <td>NaN</td>\n",
       "      <td>NaN</td>\n",
       "      <td>NaN</td>\n",
       "      <td>NaN</td>\n",
       "    </tr>\n",
       "  </tbody>\n",
       "</table>\n",
       "<p>5 rows × 68 columns</p>\n",
       "</div>"
      ],
      "text/plain": [
       "         Data Source World Development Indicators  \\\n",
       "0                NaN                          NaN   \n",
       "1  Last Updated Date                    1/28/2025   \n",
       "2                NaN                          NaN   \n",
       "3       Country Name                 Country Code   \n",
       "4              Aruba                          ABW   \n",
       "\n",
       "                         Unnamed: 2      Unnamed: 3  Unnamed: 4  Unnamed: 5  \\\n",
       "0                               NaN             NaN         NaN         NaN   \n",
       "1                               NaN             NaN         NaN         NaN   \n",
       "2                               NaN             NaN         NaN         NaN   \n",
       "3                    Indicator Name  Indicator Code      1960.0      1961.0   \n",
       "4  Income share held by highest 10%  SI.DST.10TH.10         NaN         NaN   \n",
       "\n",
       "   Unnamed: 6  Unnamed: 7  Unnamed: 8  Unnamed: 9  ...  Unnamed: 58  \\\n",
       "0         NaN         NaN         NaN         NaN  ...          NaN   \n",
       "1         NaN         NaN         NaN         NaN  ...          NaN   \n",
       "2         NaN         NaN         NaN         NaN  ...          NaN   \n",
       "3      1962.0      1963.0      1964.0      1965.0  ...       2014.0   \n",
       "4         NaN         NaN         NaN         NaN  ...          NaN   \n",
       "\n",
       "   Unnamed: 59  Unnamed: 60  Unnamed: 61  Unnamed: 62  Unnamed: 63  \\\n",
       "0          NaN          NaN          NaN          NaN          NaN   \n",
       "1          NaN          NaN          NaN          NaN          NaN   \n",
       "2          NaN          NaN          NaN          NaN          NaN   \n",
       "3       2015.0       2016.0       2017.0       2018.0       2019.0   \n",
       "4          NaN          NaN          NaN          NaN          NaN   \n",
       "\n",
       "   Unnamed: 64  Unnamed: 65  Unnamed: 66  Unnamed: 67  \n",
       "0          NaN          NaN          NaN          NaN  \n",
       "1          NaN          NaN          NaN          NaN  \n",
       "2          NaN          NaN          NaN          NaN  \n",
       "3       2020.0       2021.0       2022.0       2023.0  \n",
       "4          NaN          NaN          NaN          NaN  \n",
       "\n",
       "[5 rows x 68 columns]"
      ]
     },
     "execution_count": 35,
     "metadata": {},
     "output_type": "execute_result"
    }
   ],
   "source": [
    "# Defining the path\n",
    "path = r\"C:\\Users\\jorda\\Documents\\Data_Gathering\\Assignment1\\income.highest.10.csv\"\n",
    "\n",
    "# Loading the CSV file as a data frame\n",
    "df = pd.read_csv(path)\n",
    "\n",
    "# Checking to see if it loaded in correctly\n",
    "# Displaying the first few rows of the dataset\n",
    "df.head()"
   ]
  },
  {
   "cell_type": "code",
   "execution_count": null,
   "id": "4ddf3b8b-b39a-4785-952b-f271b226c8c3",
   "metadata": {},
   "outputs": [],
   "source": [
    "# There is a lot of missing data from this file. "
   ]
  },
  {
   "cell_type": "code",
   "execution_count": 37,
   "id": "3fbfba8d-8065-4def-978d-0d5cf33b825f",
   "metadata": {},
   "outputs": [
    {
     "name": "stdout",
     "output_type": "stream",
     "text": [
      "<class 'pandas.core.frame.DataFrame'>\n",
      "RangeIndex: 270 entries, 0 to 269\n",
      "Data columns (total 68 columns):\n",
      " #   Column                        Non-Null Count  Dtype  \n",
      "---  ------                        --------------  -----  \n",
      " 0   Data Source                   268 non-null    object \n",
      " 1   World Development Indicators  268 non-null    object \n",
      " 2   Unnamed: 2                    267 non-null    object \n",
      " 3   Unnamed: 3                    267 non-null    object \n",
      " 4   Unnamed: 4                    1 non-null      float64\n",
      " 5   Unnamed: 5                    1 non-null      float64\n",
      " 6   Unnamed: 6                    1 non-null      float64\n",
      " 7   Unnamed: 7                    2 non-null      float64\n",
      " 8   Unnamed: 8                    2 non-null      float64\n",
      " 9   Unnamed: 9                    2 non-null      float64\n",
      " 10  Unnamed: 10                   2 non-null      float64\n",
      " 11  Unnamed: 11                   2 non-null      float64\n",
      " 12  Unnamed: 12                   3 non-null      float64\n",
      " 13  Unnamed: 13                   3 non-null      float64\n",
      " 14  Unnamed: 14                   4 non-null      float64\n",
      " 15  Unnamed: 15                   4 non-null      float64\n",
      " 16  Unnamed: 16                   3 non-null      float64\n",
      " 17  Unnamed: 17                   4 non-null      float64\n",
      " 18  Unnamed: 18                   3 non-null      float64\n",
      " 19  Unnamed: 19                   6 non-null      float64\n",
      " 20  Unnamed: 20                   3 non-null      float64\n",
      " 21  Unnamed: 21                   6 non-null      float64\n",
      " 22  Unnamed: 22                   4 non-null      float64\n",
      " 23  Unnamed: 23                   9 non-null      float64\n",
      " 24  Unnamed: 24                   8 non-null      float64\n",
      " 25  Unnamed: 25                   12 non-null     float64\n",
      " 26  Unnamed: 26                   7 non-null      float64\n",
      " 27  Unnamed: 27                   8 non-null      float64\n",
      " 28  Unnamed: 28                   10 non-null     float64\n",
      " 29  Unnamed: 29                   15 non-null     float64\n",
      " 30  Unnamed: 30                   17 non-null     float64\n",
      " 31  Unnamed: 31                   23 non-null     float64\n",
      " 32  Unnamed: 32                   15 non-null     float64\n",
      " 33  Unnamed: 33                   20 non-null     float64\n",
      " 34  Unnamed: 34                   24 non-null     float64\n",
      " 35  Unnamed: 35                   22 non-null     float64\n",
      " 36  Unnamed: 36                   38 non-null     float64\n",
      " 37  Unnamed: 37                   27 non-null     float64\n",
      " 38  Unnamed: 38                   26 non-null     float64\n",
      " 39  Unnamed: 39                   40 non-null     float64\n",
      " 40  Unnamed: 40                   38 non-null     float64\n",
      " 41  Unnamed: 41                   31 non-null     float64\n",
      " 42  Unnamed: 42                   44 non-null     float64\n",
      " 43  Unnamed: 43                   36 non-null     float64\n",
      " 44  Unnamed: 44                   50 non-null     float64\n",
      " 45  Unnamed: 45                   40 non-null     float64\n",
      " 46  Unnamed: 46                   58 non-null     float64\n",
      " 47  Unnamed: 47                   60 non-null     float64\n",
      " 48  Unnamed: 48                   71 non-null     float64\n",
      " 49  Unnamed: 49                   76 non-null     float64\n",
      " 50  Unnamed: 50                   77 non-null     float64\n",
      " 51  Unnamed: 51                   69 non-null     float64\n",
      " 52  Unnamed: 52                   74 non-null     float64\n",
      " 53  Unnamed: 53                   79 non-null     float64\n",
      " 54  Unnamed: 54                   83 non-null     float64\n",
      " 55  Unnamed: 55                   79 non-null     float64\n",
      " 56  Unnamed: 56                   85 non-null     float64\n",
      " 57  Unnamed: 57                   76 non-null     float64\n",
      " 58  Unnamed: 58                   83 non-null     float64\n",
      " 59  Unnamed: 59                   86 non-null     float64\n",
      " 60  Unnamed: 60                   82 non-null     float64\n",
      " 61  Unnamed: 61                   79 non-null     float64\n",
      " 62  Unnamed: 62                   92 non-null     float64\n",
      " 63  Unnamed: 63                   77 non-null     float64\n",
      " 64  Unnamed: 64                   66 non-null     float64\n",
      " 65  Unnamed: 65                   72 non-null     float64\n",
      " 66  Unnamed: 66                   29 non-null     float64\n",
      " 67  Unnamed: 67                   5 non-null      float64\n",
      "dtypes: float64(64), object(4)\n",
      "memory usage: 143.6+ KB\n"
     ]
    }
   ],
   "source": [
    "# Using info df.info() to see how large the dataframe is\n",
    "df.info()"
   ]
  },
  {
   "cell_type": "code",
   "execution_count": null,
   "id": "50932d62-30f3-4ed6-9d80-af56240bec7a",
   "metadata": {},
   "outputs": [],
   "source": [
    "# There are a total of 68 columns in this dataset. \n",
    "# There are 270 rows in this dataset. "
   ]
  },
  {
   "cell_type": "code",
   "execution_count": 39,
   "id": "8a4d3430-3001-4a06-a7e6-2a9728fa0b0d",
   "metadata": {},
   "outputs": [
    {
     "name": "stdout",
     "output_type": "stream",
     "text": [
      "\n",
      "Unique column names:\n",
      "\n",
      "Index(['Data Source', 'World Development Indicators', 'Unnamed: 2',\n",
      "       'Unnamed: 3', 'Unnamed: 4', 'Unnamed: 5', 'Unnamed: 6', 'Unnamed: 7',\n",
      "       'Unnamed: 8', 'Unnamed: 9', 'Unnamed: 10', 'Unnamed: 11', 'Unnamed: 12',\n",
      "       'Unnamed: 13', 'Unnamed: 14', 'Unnamed: 15', 'Unnamed: 16',\n",
      "       'Unnamed: 17', 'Unnamed: 18', 'Unnamed: 19', 'Unnamed: 20',\n",
      "       'Unnamed: 21', 'Unnamed: 22', 'Unnamed: 23', 'Unnamed: 24',\n",
      "       'Unnamed: 25', 'Unnamed: 26', 'Unnamed: 27', 'Unnamed: 28',\n",
      "       'Unnamed: 29', 'Unnamed: 30', 'Unnamed: 31', 'Unnamed: 32',\n",
      "       'Unnamed: 33', 'Unnamed: 34', 'Unnamed: 35', 'Unnamed: 36',\n",
      "       'Unnamed: 37', 'Unnamed: 38', 'Unnamed: 39', 'Unnamed: 40',\n",
      "       'Unnamed: 41', 'Unnamed: 42', 'Unnamed: 43', 'Unnamed: 44',\n",
      "       'Unnamed: 45', 'Unnamed: 46', 'Unnamed: 47', 'Unnamed: 48',\n",
      "       'Unnamed: 49', 'Unnamed: 50', 'Unnamed: 51', 'Unnamed: 52',\n",
      "       'Unnamed: 53', 'Unnamed: 54', 'Unnamed: 55', 'Unnamed: 56',\n",
      "       'Unnamed: 57', 'Unnamed: 58', 'Unnamed: 59', 'Unnamed: 60',\n",
      "       'Unnamed: 61', 'Unnamed: 62', 'Unnamed: 63', 'Unnamed: 64',\n",
      "       'Unnamed: 65', 'Unnamed: 66', 'Unnamed: 67'],\n",
      "      dtype='object')\n",
      "\n",
      "Total number of columns:\n",
      "\n",
      "68\n",
      "\n",
      "Total number of rows:\n",
      "\n",
      "270\n"
     ]
    }
   ],
   "source": [
    "# What are the unique column names?\n",
    "# Using the \\n in the print statement to skip a line for better visibility\n",
    "print(\"\\nUnique column names:\\n\")\n",
    "# Using the df.colummns function to view the columns in the dataset\n",
    "print(df.columns)\n",
    "\n",
    "# Finding and printing the total number of columns\n",
    "# Using the \\n in the print statement to skip a line for better visibility\n",
    "print(\"\\nTotal number of columns:\\n\")\n",
    "# Using the df.shape function to view the dimensions of the dataset, like amount of columns\n",
    "print(df.shape[1])\n",
    "\n",
    "# Finding and printing the total number of rows\n",
    "# Using the \\n in the print statement to skip a line for better visibility\n",
    "print(\"\\nTotal number of rows:\\n\")\n",
    "# Using the df.shape function to view the dimensions of the dataset, like amount of rows\n",
    "print(df.shape[0])"
   ]
  },
  {
   "cell_type": "code",
   "execution_count": 41,
   "id": "9ce986ef-0427-41d8-8e7f-edccc11fef22",
   "metadata": {},
   "outputs": [
    {
     "name": "stdout",
     "output_type": "stream",
     "text": [
      "\n",
      "Summary Statistics for Numerical Columns:\n",
      "\n",
      "       Unnamed: 4  Unnamed: 5  Unnamed: 6   Unnamed: 7   Unnamed: 8  \\\n",
      "count         1.0         1.0         1.0     2.000000     2.000000   \n",
      "mean       1960.0      1961.0      1962.0   994.950000   995.700000   \n",
      "std           NaN         NaN         NaN  1369.029439  1369.382992   \n",
      "min        1960.0      1961.0      1962.0    26.900000    27.400000   \n",
      "25%        1960.0      1961.0      1962.0   510.925000   511.550000   \n",
      "50%        1960.0      1961.0      1962.0   994.950000   995.700000   \n",
      "75%        1960.0      1961.0      1962.0  1478.975000  1479.850000   \n",
      "max        1960.0      1961.0      1962.0  1963.000000  1964.000000   \n",
      "\n",
      "        Unnamed: 9  Unnamed: 10  Unnamed: 11  Unnamed: 12  Unnamed: 13  ...  \\\n",
      "count     2.000000      2.00000      2.00000     3.000000     3.000000  ...   \n",
      "mean    995.850000    996.40000    996.65000   672.000000   672.533333  ...   \n",
      "std    1370.585074   1371.22147   1372.28213  1122.370888  1122.774209  ...   \n",
      "min      26.700000     26.80000     26.30000    21.900000    22.700000  ...   \n",
      "25%     511.275000    511.60000    511.47500    24.000000    24.300000  ...   \n",
      "50%     995.850000    996.40000    996.65000    26.100000    25.900000  ...   \n",
      "75%    1480.425000   1481.20000   1481.82500   997.050000   997.450000  ...   \n",
      "max    1965.000000   1966.00000   1967.00000  1968.000000  1969.000000  ...   \n",
      "\n",
      "       Unnamed: 58  Unnamed: 59  Unnamed: 60  Unnamed: 61  Unnamed: 62  \\\n",
      "count    83.000000    86.000000    82.000000    79.000000    92.000000   \n",
      "mean     52.159036    51.610465    52.053659    52.626582    49.389130   \n",
      "std     218.050537   214.283026   219.622420   223.897627   207.553056   \n",
      "min      20.300000    20.900000    19.900000    18.400000    19.600000   \n",
      "25%      24.000000    24.650000    23.800000    23.800000    23.900000   \n",
      "50%      26.600000    27.150000    26.000000    26.000000    27.000000   \n",
      "75%      30.150000    31.675000    30.675000    29.950000    30.650000   \n",
      "max    2014.000000  2015.000000  2016.000000  2017.000000  2018.000000   \n",
      "\n",
      "       Unnamed: 63  Unnamed: 64  Unnamed: 65  Unnamed: 66  Unnamed: 67  \n",
      "count    77.000000    66.000000    72.000000    29.000000      5.00000  \n",
      "mean     52.944156    57.340909    55.215278    98.448276    431.62000  \n",
      "std     227.053910   245.352470   234.979618   369.995407    889.61224  \n",
      "min      18.800000    19.000000    19.100000    21.100000     29.90000  \n",
      "25%      23.600000    23.575000    24.450000    25.200000     33.20000  \n",
      "50%      25.800000    26.200000    26.800000    29.500000     35.10000  \n",
      "75%      29.800000    29.900000    30.200000    34.400000     36.90000  \n",
      "max    2019.000000  2020.000000  2021.000000  2022.000000   2023.00000  \n",
      "\n",
      "[8 rows x 64 columns]\n"
     ]
    }
   ],
   "source": [
    "# Describe the numerical columns\n",
    "# Using the \\n in the print statement to skip a line for better visibility\n",
    "print(\"\\nSummary Statistics for Numerical Columns:\\n\")\n",
    "# Using the df.describe function to get summary statistics for the numerical columns\n",
    "print(df.describe())"
   ]
  },
  {
   "cell_type": "code",
   "execution_count": null,
   "id": "fd7f937a-70fc-4b92-9a2a-2402a09b9d24",
   "metadata": {},
   "outputs": [],
   "source": [
    "# There is a large amount of missing data. There is evident variability in the mean across the different countries. \n",
    "# For reference, the names of the countries where this data is sourced are represented by country codes. "
   ]
  },
  {
   "cell_type": "code",
   "execution_count": 43,
   "id": "4fce6b1d-9b2a-4f48-84b6-8ee79d89f94e",
   "metadata": {},
   "outputs": [
    {
     "name": "stdout",
     "output_type": "stream",
     "text": [
      "\n",
      "Data Types of Each Column:\n",
      "\n",
      "Data Source                      object\n",
      "World Development Indicators     object\n",
      "Unnamed: 2                       object\n",
      "Unnamed: 3                       object\n",
      "Unnamed: 4                      float64\n",
      "                                 ...   \n",
      "Unnamed: 63                     float64\n",
      "Unnamed: 64                     float64\n",
      "Unnamed: 65                     float64\n",
      "Unnamed: 66                     float64\n",
      "Unnamed: 67                     float64\n",
      "Length: 68, dtype: object\n"
     ]
    }
   ],
   "source": [
    "# Look more closely at the data types\n",
    "# Check data types of each column\n",
    "# Using the \\n in the print statement to skip a line for better visibility\n",
    "print(\"\\nData Types of Each Column:\\n\")\n",
    "# Using the df.dtypes to look at the data types for each column \n",
    "print(df.dtypes)"
   ]
  },
  {
   "cell_type": "code",
   "execution_count": null,
   "id": "0b817704-977a-4818-bbfa-77b9d749f7d5",
   "metadata": {},
   "outputs": [],
   "source": [
    "# The dataset contains 68 columns, with a mix of categorical and numerical data. \n",
    "# The first few columns appear to be text-based categories, while the later columns contain numerical values, \n",
    "# most likely representing the income prcentages."
   ]
  },
  {
   "cell_type": "code",
   "execution_count": 51,
   "id": "c98bfcc8-5fe6-4acc-b15c-ca0c31901540",
   "metadata": {},
   "outputs": [
    {
     "name": "stdout",
     "output_type": "stream",
     "text": [
      "\n",
      "Unique Values in 'Data Source' Column:\n",
      "\n",
      "[nan 'Last Updated Date' 'Country Name' 'Aruba'\n",
      " 'Africa Eastern and Southern' 'Afghanistan' 'Africa Western and Central'\n",
      " 'Angola' 'Albania' 'Andorra' 'Arab World' 'United Arab Emirates'\n",
      " 'Argentina' 'Armenia' 'American Samoa' 'Antigua and Barbuda' 'Australia'\n",
      " 'Austria' 'Azerbaijan' 'Burundi' 'Belgium' 'Benin' 'Burkina Faso'\n",
      " 'Bangladesh' 'Bulgaria' 'Bahrain' 'Bahamas, The' 'Bosnia and Herzegovina'\n",
      " 'Belarus' 'Belize' 'Bermuda' 'Bolivia' 'Brazil' 'Barbados'\n",
      " 'Brunei Darussalam' 'Bhutan' 'Botswana' 'Central African Republic'\n",
      " 'Canada' 'Central Europe and the Baltics' 'Switzerland' 'Channel Islands'\n",
      " 'Chile' 'China' \"Cote d'Ivoire\" 'Cameroon' 'Congo, Dem. Rep.'\n",
      " 'Congo, Rep.' 'Colombia' 'Comoros' 'Cabo Verde' 'Costa Rica'\n",
      " 'Caribbean small states' 'Cuba' 'Curacao' 'Cayman Islands' 'Cyprus'\n",
      " 'Czechia' 'Germany' 'Djibouti' 'Dominica' 'Denmark' 'Dominican Republic'\n",
      " 'Algeria' 'East Asia & Pacific (excluding high income)'\n",
      " 'Early-demographic dividend' 'East Asia & Pacific'\n",
      " 'Europe & Central Asia (excluding high income)' 'Europe & Central Asia'\n",
      " 'Ecuador' 'Egypt, Arab Rep.' 'Euro area' 'Eritrea' 'Spain' 'Estonia'\n",
      " 'Ethiopia' 'European Union' 'Fragile and conflict affected situations'\n",
      " 'Finland' 'Fiji' 'France' 'Faroe Islands' 'Micronesia, Fed. Sts.' 'Gabon'\n",
      " 'United Kingdom' 'Georgia' 'Ghana' 'Gibraltar' 'Guinea' 'Gambia, The'\n",
      " 'Guinea-Bissau' 'Equatorial Guinea' 'Greece' 'Grenada' 'Greenland'\n",
      " 'Guatemala' 'Guam' 'Guyana' 'High income' 'Hong Kong SAR, China'\n",
      " 'Honduras' 'Heavily indebted poor countries (HIPC)' 'Croatia' 'Haiti'\n",
      " 'Hungary' 'IBRD only' 'IDA & IBRD total' 'IDA total' 'IDA blend'\n",
      " 'Indonesia' 'IDA only' 'Isle of Man' 'India' 'Not classified' 'Ireland'\n",
      " 'Iran, Islamic Rep.' 'Iraq' 'Iceland' 'Israel' 'Italy' 'Jamaica' 'Jordan'\n",
      " 'Japan' 'Kazakhstan' 'Kenya' 'Kyrgyz Republic' 'Cambodia' 'Kiribati'\n",
      " 'St. Kitts and Nevis' 'Korea, Rep.' 'Kuwait'\n",
      " 'Latin America & Caribbean (excluding high income)' 'Lao PDR' 'Lebanon'\n",
      " 'Liberia' 'Libya' 'St. Lucia' 'Latin America & Caribbean'\n",
      " 'Least developed countries: UN classification' 'Low income'\n",
      " 'Liechtenstein' 'Sri Lanka' 'Lower middle income' 'Low & middle income'\n",
      " 'Lesotho' 'Late-demographic dividend' 'Lithuania' 'Luxembourg' 'Latvia'\n",
      " 'Macao SAR, China' 'St. Martin (French part)' 'Morocco' 'Monaco'\n",
      " 'Moldova' 'Madagascar' 'Maldives' 'Middle East & North Africa' 'Mexico'\n",
      " 'Marshall Islands' 'Middle income' 'North Macedonia' 'Mali' 'Malta'\n",
      " 'Myanmar' 'Middle East & North Africa (excluding high income)'\n",
      " 'Montenegro' 'Mongolia' 'Northern Mariana Islands' 'Mozambique'\n",
      " 'Mauritania' 'Mauritius' 'Malawi' 'Malaysia' 'North America' 'Namibia'\n",
      " 'New Caledonia' 'Niger' 'Nigeria' 'Nicaragua' 'Netherlands' 'Norway'\n",
      " 'Nepal' 'Nauru' 'New Zealand' 'OECD members' 'Oman' 'Other small states'\n",
      " 'Pakistan' 'Panama' 'Peru' 'Philippines' 'Palau' 'Papua New Guinea'\n",
      " 'Poland' 'Pre-demographic dividend' 'Puerto Rico'\n",
      " \"Korea, Dem. People's Rep.\" 'Portugal' 'Paraguay' 'West Bank and Gaza'\n",
      " 'Pacific island small states' 'Post-demographic dividend'\n",
      " 'French Polynesia' 'Qatar' 'Romania' 'Russian Federation' 'Rwanda'\n",
      " 'South Asia' 'Saudi Arabia' 'Sudan' 'Senegal' 'Singapore'\n",
      " 'Solomon Islands' 'Sierra Leone' 'El Salvador' 'San Marino' 'Somalia'\n",
      " 'Serbia' 'Sub-Saharan Africa (excluding high income)' 'South Sudan'\n",
      " 'Sub-Saharan Africa' 'Small states' 'Sao Tome and Principe' 'Suriname'\n",
      " 'Slovak Republic' 'Slovenia' 'Sweden' 'Eswatini'\n",
      " 'Sint Maarten (Dutch part)' 'Seychelles' 'Syrian Arab Republic'\n",
      " 'Turks and Caicos Islands' 'Chad'\n",
      " 'East Asia & Pacific (IDA & IBRD countries)'\n",
      " 'Europe & Central Asia (IDA & IBRD countries)' 'Togo' 'Thailand'\n",
      " 'Tajikistan' 'Turkmenistan'\n",
      " 'Latin America & the Caribbean (IDA & IBRD countries)' 'Timor-Leste'\n",
      " 'Middle East & North Africa (IDA & IBRD countries)' 'Tonga'\n",
      " 'South Asia (IDA & IBRD)' 'Sub-Saharan Africa (IDA & IBRD countries)'\n",
      " 'Trinidad and Tobago' 'Tunisia' 'Turkiye' 'Tuvalu' 'Tanzania' 'Uganda'\n",
      " 'Ukraine' 'Upper middle income' 'Uruguay' 'United States' 'Uzbekistan'\n",
      " 'St. Vincent and the Grenadines' 'Venezuela, RB' 'British Virgin Islands'\n",
      " 'Virgin Islands (U.S.)' 'Viet Nam' 'Vanuatu' 'World' 'Samoa' 'Kosovo'\n",
      " 'Yemen, Rep.' 'South Africa' 'Zambia' 'Zimbabwe']\n",
      "\n",
      "Value Counts for 'Data Source' Column:\n",
      "\n",
      "Data Source\n",
      "Last Updated Date    1\n",
      "Oman                 1\n",
      "Malawi               1\n",
      "Malaysia             1\n",
      "North America        1\n",
      "                    ..\n",
      "Guatemala            1\n",
      "Guam                 1\n",
      "Guyana               1\n",
      "High income          1\n",
      "Zimbabwe             1\n",
      "Name: count, Length: 268, dtype: int64\n",
      "\n",
      "Missing Values in 'Data Source' Column:\n",
      "\n",
      "2\n",
      "\n",
      "First Few Entries in 'Data Source' Column:\n",
      "\n",
      "0                  NaN\n",
      "1    Last Updated Date\n",
      "2                  NaN\n",
      "3         Country Name\n",
      "4                Aruba\n",
      "Name: Data Source, dtype: object\n"
     ]
    }
   ],
   "source": [
    "# Check unique values in Data Source column\n",
    "# Using the \\n in the print statement to skip a line for better visibility\n",
    "print(\"\\nUnique Values in 'Data Source' Column:\\n\")\n",
    "# This function shows the unique values\n",
    "print(df['Data Source'].unique())\n",
    "\n",
    "# Counting the amount of each unique value\n",
    "# Using the \\n in the print statement to skip a line for better visibility\n",
    "print(\"\\nValue Counts for 'Data Source' Column:\\n\")\n",
    "# This function then counts the amount of those values\n",
    "print(df['Data Source'].value_counts())\n",
    "\n",
    "# Checking for missing values in Data Source column\n",
    "# Using the \\n in the print statement to skip a line for better visibility\n",
    "print(\"\\nMissing Values in 'Data Source' Column:\\n\")\n",
    "# This function checks for NAs \n",
    "print(df['Data Source'].isnull().sum())\n",
    "\n",
    "# Display the first few entries in data source column\n",
    "# Using the \\n in the print statement to skip a line for better visibility\n",
    "print(\"\\nFirst Few Entries in 'Data Source' Column:\\n\")\n",
    "#This then shows the first few rows for this column\n",
    "print(df['Data Source'].head())\n"
   ]
  },
  {
   "cell_type": "code",
   "execution_count": null,
   "id": "757f3ad7-070c-4455-a744-69520e3b289b",
   "metadata": {},
   "outputs": [],
   "source": [
    "# This was helpful in showing the actual countries names. \n",
    "# I have opened the excel file for this and it shows that some countries only have one entry so years are not as important\n",
    "# But, that also brings into question inflation as a determinent for this wealth divide. At least, from the standpoint of the\n",
    "# available data itself. \n",
    "# This shows that there are two Nas for the data source column which is hard to believe at this point. "
   ]
  },
  {
   "cell_type": "code",
   "execution_count": 55,
   "id": "1b9e44b2-370b-4d9d-a693-5bec04eb03cc",
   "metadata": {},
   "outputs": [
    {
     "data": {
      "image/png": "[encoded data removed]",
      "text/plain": [
       "<Figure size 1200x600 with 1 Axes>"
      ]
     },
     "metadata": {},
     "output_type": "display_data"
    }
   ],
   "source": [
    "# The way the countries are labeled is sporadic\n",
    "# I am just going to make a scatter plot to show the general accumulation and concentration of wealth\n",
    "# by the top 10% overtime on a global scale\n",
    "# Setting the correct headers from row 3 and extract data from row 4 onwards\n",
    "df.columns = df.iloc[3]\n",
    "df = df.iloc[4:].reset_index(drop=True)\n",
    "\n",
    "# Renaming the \"Country Code\" column to make my life easier\n",
    "df = df.rename(columns={\"Country Code\": \"Country_Code\"})\n",
    "\n",
    "# Selecting only numerical columns (years) and country codes\n",
    "df_numeric = df.set_index(\"Country_Code\").apply(pd.to_numeric, errors='coerce')\n",
    "\n",
    "# Dropping any columns that are completely empty, non-reporting countries\n",
    "df_numeric = df_numeric.dropna(axis=1, how=\"all\")\n",
    "\n",
    "# Transposing the dataframe for plotting (years on x-axis, countries as dots per year)\n",
    "df_transposed = df_numeric.T\n",
    "\n",
    "# Creating a dot plot for all years\n",
    "plt.figure(figsize=(12, 6)) # Changing the size of the figures\n",
    "# df_transposed.index- X-axis (Years)\n",
    "# df_transposed (country)- Y-axis (Income Share % for each country)\n",
    "# label- country- Assigns a legend for each country\n",
    "# alpha = 0.7- Adjusts the visibility\n",
    "# s = 10-  Sets the size of the scatter points\n",
    "for country in df_transposed.columns:\n",
    "    plt.scatter(df_transposed.index, df_transposed[country], label=country, alpha=0.7, s=10)\n",
    "\n",
    "# Add labels and title\n",
    "plt.xlabel(\"Year\") # Labeling\n",
    "plt.ylabel(\"Income Share (%)\") # Labeling\n",
    "plt.title(\"Top 10% Income Share Across Countries (All Years)\") # Labeling\n",
    "plt.grid(axis=\"y\", linestyle=\"--\", alpha=0.7) # Adding a grid\n",
    "\n",
    "# Showing the plot\n",
    "plt.show()\n",
    "\n",
    "# I kept the random colors because when it was all one color it was a lot to look at. "
   ]
  },
  {
   "cell_type": "code",
   "execution_count": null,
   "id": "ef7a24f6-a81a-4a8a-8e59-36e24e0431cf",
   "metadata": {},
   "outputs": [],
   "source": [
    "# While this is not a comprehensive overview of each country's wealth divide, it does show that overtime, the accumulation of\n",
    "# wealth by the top 10% is only growing. "
   ]
  },
  {
   "cell_type": "markdown",
   "id": "8ce67fcf",
   "metadata": {},
   "source": [
    "# Assignment #2 - Data Gathering and Warehousing - DSSA-5102\n",
    "\n",
    "Instructor: Melissa Laurino</br>\n",
    "Spring 2025</br>\n",
    "\n",
    "Our next objective is to choose <b>ONE</b> of the datasets from our previous assignment to explore further. The datasets we have chose for Assignment #1 can be cleaned by practicing our Python skills. Depending on your data, and especially the size of it, it may be more beneficial to clean in a language you are comfortable working in already instead of cleaning our data with a new language like SQL. SQL may be needed for cleaning of databases that are very large or hundreds of terabytes in size. We will clean our datasets first before we attempt to load them into our SQL databases. </br>\n",
    "Not only is data everywhere, but it can also be messy. Messy data can originate in the data collection process, whether this is occurring with manual data entry and typos, or with outdated collection forms that hold multiple variables that mean the same thing. For example, while collecting data on marine mammals, it is important to note who the observer is. With Python and R, reading excel or csv files, these languages will take the same variable written as, \"Melissa Laurino\" and \"melissa laurino\" as two separate observers because they are case sensitive. However, this is not accurate because they are meant to be the same person within the observer column or category.</br>\n",
    "Clean data is important for consistency that leads to accurate results and analysis. If we are using our data to make informed decisions in our field, we need it to be clean. We do not want to omit rows that may make a difference to our dataset because they do not fit a certain criteria due to typos, but how much should the original dataset be altered? Depending on your field, there may be regulations and compliance standards regarding data quality. Protocols may state if the data does not read exactly how it should be, then it should be ommitted. </br>\n",
    "For our learning objectives in this class, we will clean our data. Our first assignment in our warehousing journey was important because it allowed us to gain a better understanding of a dataset that we personally did not collect. Now that we have that understanding, we can explore it in greater depth and clean it as necessary.<br>\n",
    "<br>\n",
    "For Assignment #2, our objective is to clean one of the datasets explored above using Python to prepare for our future database from scratch. Include at a minimum:\n",
    "\n",
    "- The chosen dataset name, company/organization resonsible for data collection, the download link, and date of access.\n",
    "- Load neccessary packages and data (Only if you start a new session in Jupyter, not if you are continuing from above).\n",
    "- Make all column names lower case, contain no spaces, and no special characters (SQL will not like this otherwise).\n",
    "- *Make detailed comments with your code* <br>\n",
    "- *Record EVERYTHING ommitted and changed if necessary* <br>\n",
    "- Since we are exploring and learning without a specific organization policy, use your best judgement when ommitting records. If you have chosen to ommit data, please explain why.</br>\n",
    "- Save your new CLEAN data as a .csv file. \n",
    "\n",
    "\n",
    "Comment ALL code to recieve full credit. The above bullet points are to help guide you in your process, but extensive cleaning is expected for your data set (This will also save you a lot of time down the line!). \n",
    "<br>\n",
    "\n",
    "<br>\n",
    "<b>The code that I have written below is just to give you ideas on exploring and cleaning data. It is encouraged that you explore and clean it in greater detail than what I have written below for full credit.</b><br>"
   ]
  },
  {
   "cell_type": "markdown",
   "id": "b07cb638-34d9-4342-92bb-f405ae1789cd",
   "metadata": {},
   "source": [
    "<b>Dataset name: Global Surface Temperature </b><br>\n",
    "<b>Company/Government Organization: World Bank Group </b><br>\n",
    "Download link: https://datatopics.worldbank.org/sdgatlas/goal-13-climate-action?lang=en  <br>\n",
    "Date of Access: 2/8/25"
   ]
  },
  {
   "cell_type": "markdown",
   "id": "a707f9e0-68fe-4304-8bbe-a13921b7bf78",
   "metadata": {},
   "source": [
    "Why did you choose to continue working with this dataset? <br>\n",
    "<br>\n",
    "<br>"
   ]
  },
  {
   "cell_type": "code",
   "execution_count": null,
   "id": "3db302c5-52c6-4b93-a1b6-3d94c46459bc",
   "metadata": {},
   "outputs": [],
   "source": [
    "# I chose this dataset because it is somewhat related/helpful to my assistanship and it is a very comprehensive dataset."
   ]
  },
  {
   "cell_type": "code",
   "execution_count": 3,
   "id": "63e69801-92d9-41da-972f-c68ae2b6c7ce",
   "metadata": {},
   "outputs": [],
   "source": [
    "# Loading in the libraries that I need\n",
    "import pandas as pd # Reads, writes, shapes, manipulates data\n",
    "import numpy as np # Basic stats and numerical operations\n",
    "import matplotlib.pyplot as plt # Creating basic graphs"
   ]
  },
  {
   "cell_type": "code",
   "execution_count": 5,
   "id": "f5ff2529-3267-42e5-aff3-39306e53c87b",
   "metadata": {},
   "outputs": [
    {
     "data": {
      "text/html": [
       "<div>\n",
       "<style scoped>\n",
       "    .dataframe tbody tr th:only-of-type {\n",
       "        vertical-align: middle;\n",
       "    }\n",
       "\n",
       "    .dataframe tbody tr th {\n",
       "        vertical-align: top;\n",
       "    }\n",
       "\n",
       "    .dataframe thead th {\n",
       "        text-align: right;\n",
       "    }\n",
       "</style>\n",
       "<table border=\"1\" class=\"dataframe\">\n",
       "  <thead>\n",
       "    <tr style=\"text-align: right;\">\n",
       "      <th></th>\n",
       "      <th>year</th>\n",
       "      <th>temp</th>\n",
       "      <th>x5</th>\n",
       "      <th>x95</th>\n",
       "      <th>series</th>\n",
       "    </tr>\n",
       "  </thead>\n",
       "  <tbody>\n",
       "    <tr>\n",
       "      <th>0</th>\n",
       "      <td>1995</td>\n",
       "      <td>0.65</td>\n",
       "      <td>0.46</td>\n",
       "      <td>0.79</td>\n",
       "      <td>reconstructed</td>\n",
       "    </tr>\n",
       "    <tr>\n",
       "      <th>1</th>\n",
       "      <td>1994</td>\n",
       "      <td>0.64</td>\n",
       "      <td>0.46</td>\n",
       "      <td>0.77</td>\n",
       "      <td>reconstructed</td>\n",
       "    </tr>\n",
       "    <tr>\n",
       "      <th>2</th>\n",
       "      <td>1993</td>\n",
       "      <td>0.62</td>\n",
       "      <td>0.45</td>\n",
       "      <td>0.76</td>\n",
       "      <td>reconstructed</td>\n",
       "    </tr>\n",
       "    <tr>\n",
       "      <th>3</th>\n",
       "      <td>1992</td>\n",
       "      <td>0.61</td>\n",
       "      <td>0.45</td>\n",
       "      <td>0.74</td>\n",
       "      <td>reconstructed</td>\n",
       "    </tr>\n",
       "    <tr>\n",
       "      <th>4</th>\n",
       "      <td>1991</td>\n",
       "      <td>0.59</td>\n",
       "      <td>0.44</td>\n",
       "      <td>0.71</td>\n",
       "      <td>reconstructed</td>\n",
       "    </tr>\n",
       "  </tbody>\n",
       "</table>\n",
       "</div>"
      ],
      "text/plain": [
       "   year  temp    x5   x95         series\n",
       "0  1995  0.65  0.46  0.79  reconstructed\n",
       "1  1994  0.64  0.46  0.77  reconstructed\n",
       "2  1993  0.62  0.45  0.76  reconstructed\n",
       "3  1992  0.61  0.45  0.74  reconstructed\n",
       "4  1991  0.59  0.44  0.71  reconstructed"
      ]
     },
     "execution_count": 5,
     "metadata": {},
     "output_type": "execute_result"
    }
   ],
   "source": [
    "# Loading in the datset again\n",
    "# Defining the path\n",
    "path = r\"C:\\Users\\jorda\\Documents\\Data_Gathering\\Assignment1\\goal13.temperature.csv\"\n",
    "\n",
    "# Loading the CSV file as a data frame\n",
    "df = pd.read_csv(path)\n",
    "\n",
    "# Checking to see if it loaded in correctly\n",
    "# Displaying the first few rows of the dataset\n",
    "df.head()"
   ]
  },
  {
   "cell_type": "code",
   "execution_count": null,
   "id": "75e4b2f8-3519-467a-9384-5d79c5ee0a52",
   "metadata": {},
   "outputs": [],
   "source": [
    "# I have already explored the dataset above. So, I know that there are no Nas. The data is comprehensive and it spans\n",
    "# many years and shows the overall increase in temp throughout time. "
   ]
  },
  {
   "cell_type": "code",
   "execution_count": 17,
   "id": "20fc13fb-471c-4cf7-8237-bfcdadce619c",
   "metadata": {},
   "outputs": [
    {
     "name": "stdout",
     "output_type": "stream",
     "text": [
      "False\n"
     ]
    }
   ],
   "source": [
    "# However, to be thorough \n",
    "# This checks for Nas\n",
    "print(df.isna().any().any())  # Returns True if any Nas exist"
   ]
  },
  {
   "cell_type": "markdown",
   "id": "671734a8-46a4-4d71-81e7-ce3c62f716b4",
   "metadata": {},
   "source": [
    "Make all column names lowercase, with no spaces or special characters:"
   ]
  },
  {
   "cell_type": "code",
   "execution_count": 7,
   "id": "39ace8c8-49b7-4ad6-8884-4f3f1922cdef",
   "metadata": {},
   "outputs": [
    {
     "name": "stdout",
     "output_type": "stream",
     "text": [
      "Index(['year', 'temp', 'x5', 'x95', 'series'], dtype='object')\n"
     ]
    }
   ],
   "source": [
    "# Printing the column names to see what I am working with\n",
    "print(df.columns)"
   ]
  },
  {
   "cell_type": "code",
   "execution_count": null,
   "id": "ba56ca74-cb82-477a-bdd8-ac2c2c224e88",
   "metadata": {},
   "outputs": [],
   "source": [
    "# So, they already are all lowercase without special character or spaces, but I'll write the code for it anyways. "
   ]
  },
  {
   "cell_type": "code",
   "execution_count": 9,
   "id": "79bf2359",
   "metadata": {
    "scrolled": true
   },
   "outputs": [
    {
     "name": "stdout",
     "output_type": "stream",
     "text": [
      "Index(['year', 'temp', 'x5', 'x95', 'series'], dtype='object')\n"
     ]
    }
   ],
   "source": [
    "# Make column names lowercase\n",
    "# \"Cleaning\" the column names\n",
    "df.columns = (\n",
    "    df.columns.str.lower()  # Converts to lowercase\n",
    "    .str.replace(r'\\s+', '_', regex=True)  # Replaces spaces with underscores\n",
    "    .str.replace(r'\\W', '', regex=True)  # Removes special characters\n",
    ")\n",
    "# Print them to see if it worked, in this case, it does not really matter\n",
    "print(df.columns)"
   ]
  },
  {
   "cell_type": "code",
   "execution_count": null,
   "id": "486a54cc-3eb4-40a0-a6f8-dd27d0947b1b",
   "metadata": {},
   "outputs": [],
   "source": [
    "# It is good"
   ]
  },
  {
   "cell_type": "code",
   "execution_count": 36,
   "id": "e6ab7e05",
   "metadata": {},
   "outputs": [],
   "source": [
    "# Again, I already know from exploring that there are no Nas. \n",
    "# But, if there were I would probably take the mean from the year before and after and include it instead of deleting\n",
    "# I'll comment out the code that I would use.\n",
    "    # df['temp'] = df['temp'].fillna(df['temp'].interpolate(method='linear'))"
   ]
  },
  {
   "cell_type": "code",
   "execution_count": 11,
   "id": "96de4afc",
   "metadata": {},
   "outputs": [],
   "source": [
    "# Saving this as a cleaned csv\n",
    "df.to_csv(\"cleaned_goal13.temperature.csv\", index=False)"
   ]
  },
  {
   "cell_type": "code",
   "execution_count": 13,
   "id": "eb86068e",
   "metadata": {},
   "outputs": [
    {
     "name": "stdout",
     "output_type": "stream",
     "text": [
      "Index(['year', 'temp', 'x5', 'x95', 'series'], dtype='object')\n"
     ]
    }
   ],
   "source": [
    "# Since, it is already clean theres no way to check if that worked.\n",
    "# But, what I usually would do is print out the first few rows to check \n",
    "# This would display the cleaned column names\n",
    "print(df.columns) "
   ]
  }
 ],
 "metadata": {
  "kernelspec": {
   "display_name": "Python [conda env:base] *",
   "language": "python",
   "name": "conda-base-py"
  },
  "language_info": {
   "codemirror_mode": {
    "name": "ipython",
    "version": 3
   },
   "file_extension": ".py",
   "mimetype": "text/x-python",
   "name": "python",
   "nbconvert_exporter": "python",
   "pygments_lexer": "ipython3",
   "version": "3.12.7"
  }
 },
 "nbformat": 4,
 "nbformat_minor": 5
}
